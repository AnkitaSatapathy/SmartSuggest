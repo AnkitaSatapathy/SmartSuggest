{
 "cells": [
  {
   "cell_type": "code",
   "execution_count": 1,
   "id": "65d761b4-b6a4-4a44-91df-e5dd34777c08",
   "metadata": {},
   "outputs": [],
   "source": [
    "import json\n",
    "import csv\n",
    "import pandas as pd\n",
    "import numpy as np\n",
    "import seaborn as sns\n",
    "import matplotlib.pyplot as plt\n",
    "from sklearn.preprocessing import MinMaxScaler\n",
    "import networkx as nx\n",
    "import textstat\n",
    "from spellchecker import SpellChecker"
   ]
  },
  {
   "cell_type": "code",
   "execution_count": 11,
   "id": "2e6144e3-a864-4d08-8964-e57d94aacb4e",
   "metadata": {},
   "outputs": [],
   "source": [
    "json_file_path =\"Cell_Phones_and_Accessories_5.json\"\n",
    "df = pd.read_json(json_file_path, lines=True)"
   ]
  },
  {
   "cell_type": "code",
   "execution_count": 13,
   "id": "0c09acac-afe9-4651-ad7c-bfe8087f8bce",
   "metadata": {},
   "outputs": [
    {
     "name": "stdout",
     "output_type": "stream",
     "text": [
      "             reviewerID                         Top_5_Recommended_Products\n",
      "0  A0464351OZXPUPKGI6HO  [B00C5SMPA8, B00DUFFPAW, B00KB9AWEE, B00EOXW89...\n",
      "1        A1048G5XB4DPQZ  [B00NIEPAQ4, B00GXHPN1U, B00HIMOGMG, B00FZV14G...\n",
      "2        A10J1NIBCBVEW1  [B00I2LRLPG, B00DRNEV9S, B00D8T9QZU, B00FX8WIU...\n",
      "3        A10RFE02942D9N  [B00BT7RAPG, B00JH88NHI, B00D856NOG, B00MXWFUQ...\n",
      "4        A10UHQH1YL5Q6B  [B00MXWFUQC, B00CKUBLFQ, B00JH82WRK, B00JH88NH...\n"
     ]
    }
   ],
   "source": [
    "import pandas as pd\n",
    "import numpy as np\n",
    "from sklearn.decomposition import TruncatedSVD\n",
    "\n",
    "df = pd.read_csv(\"okay.csv\")\n",
    "\n",
    "top_users = df['reviewerID'].value_counts().head(500).index\n",
    "top_products = df['asin'].value_counts().head(500).index\n",
    "\n",
    "filtered_df = df[df['reviewerID'].isin(top_users) & df['asin'].isin(top_products)]\n",
    "\n",
    "user_item_matrix = filtered_df.pivot_table(\n",
    "    index='reviewerID', columns='asin', values='avg_rh_cq', fill_value=0\n",
    ")\n",
    "\n",
    "svd = TruncatedSVD(n_components=20, random_state=42)\n",
    "user_factors = svd.fit_transform(user_item_matrix)\n",
    "item_factors = svd.components_\n",
    "\n",
    "predicted_matrix = np.dot(user_factors, item_factors)\n",
    "predicted_df = pd.DataFrame(predicted_matrix, index=user_item_matrix.index, columns=user_item_matrix.columns)\n",
    "\n",
    "top_n = 5\n",
    "top_n_recommendations = predicted_df.apply(lambda row: row.nlargest(top_n).index.tolist(), axis=1)\n",
    "\n",
    "\n",
    "recommendation_df = pd.DataFrame({\n",
    "    'reviewerID': top_n_recommendations.index,\n",
    "    'Top_5_Recommended_Products': top_n_recommendations.values\n",
    "})\n",
    "\n",
    "print(recommendation_df.head())\n"
   ]
  },
  {
   "cell_type": "code",
   "execution_count": 15,
   "id": "7db8958d-8868-4edd-8040-7d40425f10f8",
   "metadata": {},
   "outputs": [
    {
     "name": "stdout",
     "output_type": "stream",
     "text": [
      "Hit Ratio @ 5: 0.1012\n"
     ]
    }
   ],
   "source": [
    "from sklearn.model_selection import train_test_split\n",
    "\n",
    "train_df, test_df = train_test_split(filtered_df, test_size=0.2, random_state=42)\n",
    "\n",
    "train_matrix = train_df.pivot_table(\n",
    "    index='reviewerID', columns='asin', values='avg_rh_cq', fill_value=0\n",
    ")\n",
    "\n",
    "svd = TruncatedSVD(n_components=20, random_state=42)\n",
    "user_factors = svd.fit_transform(train_matrix)\n",
    "item_factors = svd.components_\n",
    "\n",
    "predicted_matrix = np.dot(user_factors, item_factors)\n",
    "predicted_df = pd.DataFrame(predicted_matrix, index=train_matrix.index, columns=train_matrix.columns)\n",
    "\n",
    "top_n = 5\n",
    "top_n_preds = predicted_df.apply(lambda row: row.nlargest(top_n).index.tolist(), axis=1)\n",
    "\n",
    "test_truth = test_df.groupby(\"reviewerID\")[\"asin\"].apply(set)\n",
    "\n",
    "hit_count = 0\n",
    "total_users = 0\n",
    "\n",
    "for user, actual_items in test_truth.items():\n",
    "    if user in top_n_preds:\n",
    "        predicted_items = set(top_n_preds[user])\n",
    "        if predicted_items & actual_items:\n",
    "            hit_count += 1\n",
    "        total_users += 1\n",
    "\n",
    "hit_ratio = hit_count / total_users if total_users > 0 else 0\n",
    "\n",
    "print(f\"Hit Ratio @ {top_n}: {hit_ratio:.4f}\")\n"
   ]
  },
  {
   "cell_type": "code",
   "execution_count": null,
   "id": "15078378-9f17-4dcb-83fa-8477c312c531",
   "metadata": {},
   "outputs": [],
   "source": []
  }
 ],
 "metadata": {
  "kernelspec": {
   "display_name": "Python 3 (ipykernel)",
   "language": "python",
   "name": "python3"
  },
  "language_info": {
   "codemirror_mode": {
    "name": "ipython",
    "version": 3
   },
   "file_extension": ".py",
   "mimetype": "text/x-python",
   "name": "python",
   "nbconvert_exporter": "python",
   "pygments_lexer": "ipython3",
   "version": "3.12.7"
  }
 },
 "nbformat": 4,
 "nbformat_minor": 5
}
