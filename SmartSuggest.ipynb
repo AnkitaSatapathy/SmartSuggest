{
 "cells": [
  {
   "cell_type": "code",
   "execution_count": 40,
   "id": "65d761b4-b6a4-4a44-91df-e5dd34777c08",
   "metadata": {},
   "outputs": [],
   "source": [
    "import json\n",
    "import csv\n",
    "import pandas as pd\n",
    "import numpy as np\n",
    "import seaborn as sns\n",
    "import matplotlib.pyplot as plt\n",
    "from sklearn.preprocessing import MinMaxScaler\n",
    "import networkx as nx\n",
    "import textstat\n",
    "from spellchecker import SpellChecker"
   ]
  },
  {
   "cell_type": "code",
   "execution_count": 42,
   "id": "2e6144e3-a864-4d08-8964-e57d94aacb4e",
   "metadata": {},
   "outputs": [],
   "source": [
    "json_file_path =\"Cell_Phones_and_Accessories_5.json\"\n",
    "df = pd.read_json(json_file_path, lines=True)"
   ]
  },
  {
   "cell_type": "code",
   "execution_count": 44,
   "id": "33f13876-36e2-4d58-bacc-fea6366e32d4",
   "metadata": {},
   "outputs": [
    {
     "name": "stdout",
     "output_type": "stream",
     "text": [
      "Removed first 188074 rows and rows from 376148 to 1,128,437.\n",
      "New dataset saved as 'updated_dataset.json'.\n"
     ]
    }
   ],
   "source": [
    "df = df.iloc[188074:]\n",
    "\n",
    "df = df.drop(df.index[376148:1128437])\n",
    "\n",
    "output_path = \"updated_dataset.json\"\n",
    "df.to_json(output_path, orient=\"records\", lines=True)\n",
    "\n",
    "print(f\"Removed first 188074 rows and rows from 376148 to 1,128,437.\")\n",
    "print(f\"New dataset saved as '{output_path}'.\")"
   ]
  },
  {
   "cell_type": "code",
   "execution_count": 46,
   "id": "6a07a676-94e0-4a79-afce-58a669712f44",
   "metadata": {},
   "outputs": [
    {
     "name": "stdout",
     "output_type": "stream",
     "text": [
      "\n",
      "Step 1: Loaded dataset.\n",
      "\n",
      "\n",
      "        overall  verified   reviewTime      reviewerID        asin  \\\n",
      "188074        4      True  12 20, 2013  A2D031MY7EGYPL  B00AK4JUA2   \n",
      "188075        5      True  12 17, 2013  A3V37YH9NLG6PD  B00AK4JUA2   \n",
      "188076        3     False  08 19, 2014  A1J1UXRRC6YAWI  B00AK574JA   \n",
      "188077        1      True   08 9, 2014  A3EKHJ6K8M8HIQ  B00AK574JA   \n",
      "188078        3      True   12 8, 2013  A3TRDZ5S6D9KXO  B00AK4JUA2   \n",
      "\n",
      "                                                    style    reviewerName  \\\n",
      "188074  {'Size:': ' Design case', 'Color:': ' Black', ...  Kristy Jackson   \n",
      "188075  {'Size:': ' Design case', 'Color:': ' Black', ...       D Angeles   \n",
      "188076  {'Size:': ' iphone 4/4s case', 'Color:': ' Pin...  Manny Gonzalez   \n",
      "188077  {'Size:': ' iphone 4/4s case', 'Color:': ' Pin...    Natalie Lund   \n",
      "188078  {'Size:': ' s3 case', 'Color:': ' Navy Blue', ...             Ken   \n",
      "\n",
      "                                               reviewText  \\\n",
      "188074  It's a bit bulky but my husband wanted it that...   \n",
      "188075  Good case for Samsung S3.  I don't use screen ...   \n",
      "188076  Did a review for this same product in red. Sam...   \n",
      "188077  Didn't even work. Charged up 5% then said the ...   \n",
      "188078  Had this for a little over 2 months. The blue ...   \n",
      "\n",
      "                                  summary  unixReviewTime vote image  \n",
      "188074                   It does the job!      1387497600  NaN   NaN  \n",
      "188075                          good case      1387238400  NaN   NaN  \n",
      "188076             Good look, poor charge      1408406400  NaN   NaN  \n",
      "188077                           One Star      1407542400  NaN   NaN  \n",
      "188078  Strong cover, Holster not so much      1386460800  NaN   NaN  \n"
     ]
    }
   ],
   "source": [
    "print(\"\\nStep 1: Loaded dataset.\\n\\n\")\n",
    "print(df.head())"
   ]
  },
  {
   "cell_type": "code",
   "execution_count": 48,
   "id": "d8611242-6751-4624-8b17-54b498a6d530",
   "metadata": {},
   "outputs": [
    {
     "name": "stdout",
     "output_type": "stream",
     "text": [
      "<class 'pandas.core.frame.DataFrame'>\n",
      "RangeIndex: 376148 entries, 188074 to 564221\n",
      "Data columns (total 12 columns):\n",
      " #   Column          Non-Null Count   Dtype \n",
      "---  ------          --------------   ----- \n",
      " 0   overall         376148 non-null  int64 \n",
      " 1   verified        376148 non-null  bool  \n",
      " 2   reviewTime      376148 non-null  object\n",
      " 3   reviewerID      376148 non-null  object\n",
      " 4   asin            376148 non-null  object\n",
      " 5   style           207265 non-null  object\n",
      " 6   reviewerName    376105 non-null  object\n",
      " 7   reviewText      375927 non-null  object\n",
      " 8   summary         375988 non-null  object\n",
      " 9   unixReviewTime  376148 non-null  int64 \n",
      " 10  vote            28017 non-null   object\n",
      " 11  image           4391 non-null    object\n",
      "dtypes: bool(1), int64(2), object(9)\n",
      "memory usage: 31.9+ MB\n"
     ]
    }
   ],
   "source": [
    "df.info()"
   ]
  },
  {
   "cell_type": "code",
   "execution_count": 50,
   "id": "d073f1a7-7628-4b70-b2c6-6a22a46c1d23",
   "metadata": {},
   "outputs": [
    {
     "data": {
      "text/plain": [
       "overall                0\n",
       "verified               0\n",
       "reviewTime             0\n",
       "reviewerID             0\n",
       "asin                   0\n",
       "style             168883\n",
       "reviewerName          43\n",
       "reviewText           221\n",
       "summary              160\n",
       "unixReviewTime         0\n",
       "vote              348131\n",
       "image             371757\n",
       "dtype: int64"
      ]
     },
     "execution_count": 50,
     "metadata": {},
     "output_type": "execute_result"
    }
   ],
   "source": [
    "df.isnull().sum()"
   ]
  },
  {
   "cell_type": "code",
   "execution_count": 52,
   "id": "4c6bb2ab-4c6b-4803-8423-a063eecb7681",
   "metadata": {},
   "outputs": [
    {
     "data": {
      "text/html": [
       "<div>\n",
       "<style scoped>\n",
       "    .dataframe tbody tr th:only-of-type {\n",
       "        vertical-align: middle;\n",
       "    }\n",
       "\n",
       "    .dataframe tbody tr th {\n",
       "        vertical-align: top;\n",
       "    }\n",
       "\n",
       "    .dataframe thead th {\n",
       "        text-align: right;\n",
       "    }\n",
       "</style>\n",
       "<table border=\"1\" class=\"dataframe\">\n",
       "  <thead>\n",
       "    <tr style=\"text-align: right;\">\n",
       "      <th></th>\n",
       "      <th>overall</th>\n",
       "      <th>unixReviewTime</th>\n",
       "    </tr>\n",
       "  </thead>\n",
       "  <tbody>\n",
       "    <tr>\n",
       "      <th>count</th>\n",
       "      <td>376148.000000</td>\n",
       "      <td>3.761480e+05</td>\n",
       "    </tr>\n",
       "    <tr>\n",
       "      <th>mean</th>\n",
       "      <td>4.251420</td>\n",
       "      <td>1.429191e+09</td>\n",
       "    </tr>\n",
       "    <tr>\n",
       "      <th>std</th>\n",
       "      <td>1.207305</td>\n",
       "      <td>3.084221e+07</td>\n",
       "    </tr>\n",
       "    <tr>\n",
       "      <th>min</th>\n",
       "      <td>1.000000</td>\n",
       "      <td>1.210205e+09</td>\n",
       "    </tr>\n",
       "    <tr>\n",
       "      <th>25%</th>\n",
       "      <td>4.000000</td>\n",
       "      <td>1.410394e+09</td>\n",
       "    </tr>\n",
       "    <tr>\n",
       "      <th>50%</th>\n",
       "      <td>5.000000</td>\n",
       "      <td>1.425082e+09</td>\n",
       "    </tr>\n",
       "    <tr>\n",
       "      <th>75%</th>\n",
       "      <td>5.000000</td>\n",
       "      <td>1.446595e+09</td>\n",
       "    </tr>\n",
       "    <tr>\n",
       "      <th>max</th>\n",
       "      <td>5.000000</td>\n",
       "      <td>1.533514e+09</td>\n",
       "    </tr>\n",
       "  </tbody>\n",
       "</table>\n",
       "</div>"
      ],
      "text/plain": [
       "             overall  unixReviewTime\n",
       "count  376148.000000    3.761480e+05\n",
       "mean        4.251420    1.429191e+09\n",
       "std         1.207305    3.084221e+07\n",
       "min         1.000000    1.210205e+09\n",
       "25%         4.000000    1.410394e+09\n",
       "50%         5.000000    1.425082e+09\n",
       "75%         5.000000    1.446595e+09\n",
       "max         5.000000    1.533514e+09"
      ]
     },
     "execution_count": 52,
     "metadata": {},
     "output_type": "execute_result"
    }
   ],
   "source": [
    "df.describe()"
   ]
  },
  {
   "cell_type": "code",
   "execution_count": 54,
   "id": "2e06791e-17b2-42ee-a31c-11f750eaf50f",
   "metadata": {},
   "outputs": [],
   "source": [
    "numerical_columns = df.select_dtypes(include=['int64', 'float64']).columns\n",
    "categorical_columns = df.select_dtypes(include=['object']).columns"
   ]
  },
  {
   "cell_type": "code",
   "execution_count": 56,
   "id": "49dbfc28-6fe6-4af6-9a74-ce951f16d0d0",
   "metadata": {},
   "outputs": [],
   "source": [
    "for col in df.select_dtypes(include=['int64', 'float64']).columns:\n",
    "    df[col] = df[col].fillna(df[col].mean()) \n",
    "\n",
    "for col in df.select_dtypes(include=['object']).columns:\n",
    "    mode_value = df[col].mode()\n",
    "    if isinstance(mode_value[0], list):  \n",
    "        mode_value = mode_value[0][0]  \n",
    "    df[col] = df[col].fillna(mode_value[0]) "
   ]
  },
  {
   "cell_type": "code",
   "execution_count": 58,
   "id": "4c3b0db3-e8fb-4dec-b05e-211ea14bd4c1",
   "metadata": {},
   "outputs": [
    {
     "name": "stdout",
     "output_type": "stream",
     "text": [
      "\n",
      "Step 2: Handling Missing values.\n",
      "\n",
      "\n"
     ]
    },
    {
     "data": {
      "text/plain": [
       "overall                0\n",
       "verified               0\n",
       "reviewTime             0\n",
       "reviewerID             0\n",
       "asin                   0\n",
       "style             168883\n",
       "reviewerName           0\n",
       "reviewText             0\n",
       "summary                0\n",
       "unixReviewTime         0\n",
       "vote                   0\n",
       "image                  0\n",
       "dtype: int64"
      ]
     },
     "execution_count": 58,
     "metadata": {},
     "output_type": "execute_result"
    }
   ],
   "source": [
    "print(\"\\nStep 2: Handling Missing values.\\n\\n\")\n",
    "df.isnull().sum()"
   ]
  },
  {
   "cell_type": "code",
   "execution_count": 60,
   "id": "f746b4c9-fd74-40e0-8195-f13a5c45f124",
   "metadata": {},
   "outputs": [
    {
     "name": "stdout",
     "output_type": "stream",
     "text": [
      "\n",
      "Step 3: Encoding Categorical Data.\n",
      "\n",
      "\n"
     ]
    }
   ],
   "source": [
    "\n",
    "print(\"\\nStep 3: Encoding Categorical Data.\\n\\n\")\n",
    "\n"
   ]
  },
  {
   "cell_type": "code",
   "execution_count": 62,
   "id": "55f0a974-9fa4-4083-bb3d-7516ed5898bf",
   "metadata": {},
   "outputs": [
    {
     "name": "stdout",
     "output_type": "stream",
     "text": [
      "\n",
      "Step 4: Feature Scaling.\n",
      "\n",
      "        overall  verified   reviewTime      reviewerID        asin  \\\n",
      "188074     0.75      True  12 20, 2013  A2D031MY7EGYPL  B00AK4JUA2   \n",
      "188075     1.00      True  12 17, 2013  A3V37YH9NLG6PD  B00AK4JUA2   \n",
      "188076     0.50     False  08 19, 2014  A1J1UXRRC6YAWI  B00AK574JA   \n",
      "188077     0.00      True   08 9, 2014  A3EKHJ6K8M8HIQ  B00AK574JA   \n",
      "188078     0.50      True   12 8, 2013  A3TRDZ5S6D9KXO  B00AK4JUA2   \n",
      "\n",
      "                                                    style    reviewerName  \\\n",
      "188074  {'Size:': ' Design case', 'Color:': ' Black', ...  Kristy Jackson   \n",
      "188075  {'Size:': ' Design case', 'Color:': ' Black', ...       D Angeles   \n",
      "188076  {'Size:': ' iphone 4/4s case', 'Color:': ' Pin...  Manny Gonzalez   \n",
      "188077  {'Size:': ' iphone 4/4s case', 'Color:': ' Pin...    Natalie Lund   \n",
      "188078  {'Size:': ' s3 case', 'Color:': ' Navy Blue', ...             Ken   \n",
      "\n",
      "                                               reviewText  \\\n",
      "188074  It's a bit bulky but my husband wanted it that...   \n",
      "188075  Good case for Samsung S3.  I don't use screen ...   \n",
      "188076  Did a review for this same product in red. Sam...   \n",
      "188077  Didn't even work. Charged up 5% then said the ...   \n",
      "188078  Had this for a little over 2 months. The blue ...   \n",
      "\n",
      "                                  summary  unixReviewTime vote image  \n",
      "188074                   It does the job!        0.548370    2     h  \n",
      "188075                          good case        0.547568    2     h  \n",
      "188076             Good look, poor charge        0.613041    2     h  \n",
      "188077                           One Star        0.610369    2     h  \n",
      "188078  Strong cover, Holster not so much        0.545163    2     h  \n"
     ]
    }
   ],
   "source": [
    "print(\"\\nStep 4: Feature Scaling.\\n\")\n",
    "numerical_columns = df.select_dtypes(include=['int64', 'float64']).columns\n",
    "scaler = MinMaxScaler()\n",
    "df[numerical_columns] = scaler.fit_transform(df[numerical_columns])\n",
    "print(df.head())"
   ]
  },
  {
   "cell_type": "code",
   "execution_count": 64,
   "id": "338ec7b3-c6c1-4d80-9fc7-6f2a69aecd22",
   "metadata": {},
   "outputs": [
    {
     "data": {
      "image/png": "[encoded data removed]",
      "text/plain": [
       "<Figure size 600x400 with 1 Axes>"
      ]
     },
     "metadata": {},
     "output_type": "display_data"
    },
    {
     "data": {
      "image/png": "[encoded data removed]",
      "text/plain": [
       "<Figure size 600x400 with 1 Axes>"
      ]
     },
     "metadata": {},
     "output_type": "display_data"
    },
    {
     "name": "stdout",
     "output_type": "stream",
     "text": [
      "\n",
      "Step 5: Removed outliers using IQR method.\n",
      "\n",
      "Remaining rows after outlier removal: 323210\n"
     ]
    }
   ],
   "source": [
    "def remove_outliers(df, columns):\n",
    "    for col in columns:\n",
    "        Q1 = df[col].quantile(0.25)\n",
    "        Q3 = df[col].quantile(0.75)\n",
    "        IQR = Q3 - Q1\n",
    "        lower_bound = Q1 - 1.5 * IQR\n",
    "        upper_bound = Q3 + 1.5 * IQR\n",
    "\n",
    "        plt.figure(figsize=(6, 4))\n",
    "        sns.boxplot(x=df[col])\n",
    "        plt.title(f'Boxplot of {col} (Outliers Highlighted)')\n",
    "        plt.show()\n",
    "\n",
    "        df = df[(df[col] >= lower_bound) & (df[col] <= upper_bound)]\n",
    "    return df\n",
    "\n",
    "df = remove_outliers(df, numerical_columns)\n",
    "print(\"\\nStep 5: Removed outliers using IQR method.\\n\")\n",
    "print(f\"Remaining rows after outlier removal: {len(df)}\")"
   ]
  },
  {
   "cell_type": "code",
   "execution_count": 65,
   "id": "3740aa19-4559-4f39-a24e-33e57c1bfbd1",
   "metadata": {},
   "outputs": [
    {
     "name": "stdout",
     "output_type": "stream",
     "text": [
      "\n",
      "Step 6: Correlation Matrix Heatmap\n",
      "\n"
     ]
    },
    {
     "data": {
      "image/png": "[encoded data removed]",
      "text/plain": [
       "<Figure size 1200x800 with 2 Axes>"
      ]
     },
     "metadata": {},
     "output_type": "display_data"
    }
   ],
   "source": [
    "print(\"\\nStep 6: Correlation Matrix Heatmap\\n\")\n",
    "\n",
    "plt.figure(figsize=(12, 8))\n",
    "sns.heatmap(df.select_dtypes(include=['number']).corr(), annot=True, cmap='coolwarm', fmt='.2f', linewidths=0.5)\n",
    "plt.title(\"Feature Correlation Heatmap\")\n",
    "plt.show()"
   ]
  },
  {
   "cell_type": "code",
   "execution_count": 66,
   "id": "788085db-d4c3-49cc-89ed-2260d1e4fc74",
   "metadata": {},
   "outputs": [
    {
     "name": "stdout",
     "output_type": "stream",
     "text": [
      "Index(['overall', 'verified', 'reviewTime', 'reviewerID', 'asin', 'style',\n",
      "       'reviewerName', 'reviewText', 'summary', 'unixReviewTime', 'vote',\n",
      "       'image'],\n",
      "      dtype='object')\n"
     ]
    }
   ],
   "source": [
    "print(df.columns)"
   ]
  },
  {
   "cell_type": "code",
   "execution_count": 70,
   "id": "a0669294-fe4d-4069-866f-88893db9f824",
   "metadata": {},
   "outputs": [],
   "source": [
    "df = df.sort_values(by=['reviewerID', 'unixReviewTime']).reset_index(drop=True)"
   ]
  },
  {
   "cell_type": "code",
   "execution_count": 72,
   "id": "8b058ba8-9ea8-4d12-9aad-eb2dfb59537d",
   "metadata": {},
   "outputs": [],
   "source": [
    "def calculate_helpfulness(row):\n",
    "    return row['overall'] / 5\n",
    "\n",
    "df['helpfulness_score'] = df.apply(calculate_helpfulness, axis=1)"
   ]
  },
  {
   "cell_type": "code",
   "execution_count": 74,
   "id": "a17ea9cd-acb4-4b5f-a310-f07ea424b4d3",
   "metadata": {},
   "outputs": [
    {
     "name": "stderr",
     "output_type": "stream",
     "text": [
      "C:\\Users\\KIIT\\AppData\\Local\\Temp\\ipykernel_11224\\2938271807.py:12: DeprecationWarning: DataFrameGroupBy.apply operated on the grouping columns. This behavior is deprecated, and in a future version of pandas the grouping columns will be excluded from the operation. Either pass `include_groups=False` to exclude the groupings or explicitly select the grouping columns after groupby to silence this warning.\n",
      "  df['most_score'] = df.groupby('reviewerID').apply(lambda g: calculate_recent_score(g)).explode().values\n"
     ]
    }
   ],
   "source": [
    "def calculate_recent_score(group):\n",
    "    n = len(group)\n",
    "    z_ij = []\n",
    "    for i in range(n):\n",
    "        score = sum(1 / (e ** 2) for e in range(1, n - i + 1))\n",
    "        z_ij.append(score)\n",
    "    total_z = sum(z_ij)\n",
    "    most_ij = [z / total_z for z in z_ij]\n",
    "    return most_ij\n",
    "\n",
    "df['most_score'] = df.groupby('reviewerID').apply(lambda g: calculate_recent_score(g)).explode().values"
   ]
  },
  {
   "cell_type": "code",
   "execution_count": 76,
   "id": "828652d2-f2ff-4038-9924-1514b3b85145",
   "metadata": {},
   "outputs": [
    {
     "name": "stderr",
     "output_type": "stream",
     "text": [
      "C:\\Users\\KIIT\\AppData\\Local\\Temp\\ipykernel_11224\\286971348.py:12: DeprecationWarning: DataFrameGroupBy.apply operated on the grouping columns. This behavior is deprecated, and in a future version of pandas the grouping columns will be excluded from the operation. Either pass `include_groups=False` to exclude the groupings or explicitly select the grouping columns after groupby to silence this warning.\n",
      "  df['top_score'] = df.groupby('reviewerID').apply(lambda g: calculate_top_score(g)).explode().values\n"
     ]
    }
   ],
   "source": [
    "def calculate_top_score(group):\n",
    "    n = len(group)\n",
    "    q_ij = []\n",
    "    for i in range(n):\n",
    "        score = (1 / (i + 1)) * (n - i)\n",
    "        q_ij.append(score)\n",
    "    total_q = sum(q_ij)\n",
    "    top_ij = [q / total_q for q in q_ij]\n",
    "    return top_ij\n",
    "\n",
    "df['top_score'] = df.groupby('reviewerID').apply(lambda g: calculate_top_score(g)).explode().values"
   ]
  },
  {
   "cell_type": "code",
   "execution_count": 78,
   "id": "0ff39730-8811-4524-8a9e-058c7a6eb1f9",
   "metadata": {},
   "outputs": [],
   "source": [
    "def calculate_combined_score(row, alpha=0.5):\n",
    "    return alpha * row['top_score'] + (1 - alpha) * row['most_score']\n",
    "\n",
    "df['final_reliability_score'] = df.apply(calculate_combined_score, axis=1)"
   ]
  },
  {
   "cell_type": "code",
   "execution_count": 80,
   "id": "c2719a94-4089-4a7e-8d15-aded717e0b0e",
   "metadata": {},
   "outputs": [
    {
     "name": "stdout",
     "output_type": "stream",
     "text": [
      "Index(['overall', 'verified', 'reviewTime', 'reviewerID', 'asin', 'style',\n",
      "       'reviewerName', 'reviewText', 'summary', 'unixReviewTime', 'vote',\n",
      "       'image', 'helpfulness_score', 'most_score', 'top_score',\n",
      "       'final_reliability_score'],\n",
      "      dtype='object')\n"
     ]
    }
   ],
   "source": [
    "print(df.columns)"
   ]
  },
  {
   "cell_type": "code",
   "execution_count": 82,
   "id": "6b3882dc-fc69-4f3d-b5d3-811822e3abc3",
   "metadata": {},
   "outputs": [],
   "source": [
    "df['rh_ij'] = (df['helpfulness_score'] + df['final_reliability_score']) / 2"
   ]
  },
  {
   "cell_type": "code",
   "execution_count": 84,
   "id": "32243133-dd70-435c-9a4f-c8df7afc086b",
   "metadata": {},
   "outputs": [],
   "source": [
    "review_counts = df.groupby('asin')['reviewerID'].nunique()  \n",
    "df['cc_i'] = df['asin'].map(review_counts) / df.groupby('reviewerID')['asin'].transform('count')"
   ]
  },
  {
   "cell_type": "code",
   "execution_count": 86,
   "id": "88e48ed4-471e-454d-98d8-d8e4be6bd91b",
   "metadata": {},
   "outputs": [],
   "source": [
    "spell = SpellChecker()\n",
    "\n",
    "def calculate_review_quality(text):\n",
    "    if not isinstance(text, str) or len(text.strip()) == 0:\n",
    "        return 1  \n",
    "\n",
    "    readability_score = textstat.flesch_kincaid_grade(text)\n",
    "    words = text.split()\n",
    "    spelling_errors = sum(1 for word in words if word not in spell)\n",
    "\n",
    "    return max(1, readability_score - spelling_errors) \n",
    "\n",
    "df['rq_ij'] = df['reviewText'].apply(calculate_review_quality)"
   ]
  },
  {
   "cell_type": "code",
   "execution_count": 90,
   "id": "115d1685-b9e5-403c-9fce-8562aab57ef1",
   "metadata": {},
   "outputs": [
    {
     "name": "stderr",
     "output_type": "stream",
     "text": [
      "C:\\Users\\KIIT\\AppData\\Local\\Temp\\ipykernel_11224\\1496420507.py:3: FutureWarning: A value is trying to be set on a copy of a DataFrame or Series through chained assignment using an inplace method.\n",
      "The behavior will change in pandas 3.0. This inplace method will never work because the intermediate object on which we are setting values always behaves as a copy.\n",
      "\n",
      "For example, when doing 'df[col].method(value, inplace=True)', try using 'df.method({col: value}, inplace=True)' or df[col] = df[col].method(value) instead, to perform the operation inplace on the original object.\n",
      "\n",
      "\n",
      "  df['cq_ij'].replace([np.inf, -np.inf], np.nan, inplace=True)  # Remove infinities\n",
      "C:\\Users\\KIIT\\AppData\\Local\\Temp\\ipykernel_11224\\1496420507.py:4: FutureWarning: A value is trying to be set on a copy of a DataFrame or Series through chained assignment using an inplace method.\n",
      "The behavior will change in pandas 3.0. This inplace method will never work because the intermediate object on which we are setting values always behaves as a copy.\n",
      "\n",
      "For example, when doing 'df[col].method(value, inplace=True)', try using 'df.method({col: value}, inplace=True)' or df[col] = df[col].method(value) instead, to perform the operation inplace on the original object.\n",
      "\n",
      "\n",
      "  df['cq_ij'].fillna(df['cq_ij'].min(), inplace=True)  # Replace NaN with min value\n"
     ]
    },
    {
     "name": "stdout",
     "output_type": "stream",
     "text": [
      "✅ Final scores saved as 'final_scores1.csv' without grouping.\n"
     ]
    }
   ],
   "source": [
    "df['cq_ij'] = df['cc_i'] * df['rq_ij'] \n",
    "df['cq_ij'].replace([np.inf, -np.inf], np.nan, inplace=True)  \n",
    "df['cq_ij'].fillna(df['cq_ij'].min(), inplace=True)  \n",
    "\n",
    "df['cq_ij'] = np.log1p(df['cq_ij']) \n",
    "\n",
    "scaler = MinMaxScaler(feature_range=(0, 1))\n",
    "df[['cq_ij']] = scaler.fit_transform(df[['cq_ij']])  \n",
    "\n",
    "df['cq_ij'] = df['cq_ij'].clip(0, 1)\n",
    "df[['reviewerID', 'asin', 'rh_ij', 'cq_ij']].to_csv(\"final_scores1.csv\", index=False)\n",
    "\n",
    "print(\"✅ Final scores saved as 'final_scores1.csv' without grouping.\")"
   ]
  },
  {
   "cell_type": "code",
   "execution_count": 94,
   "id": "45144e2d-5ac4-4808-b0f8-265900a6dbc1",
   "metadata": {},
   "outputs": [
    {
     "name": "stdout",
     "output_type": "stream",
     "text": [
      "✅ Updated 'final_scores1.csv' with 'avg_rh_cq' column.\n"
     ]
    }
   ],
   "source": [
    "\n",
    "import pandas as pd\n",
    "\n",
    "csv_path = \"final_scores1.csv\"\n",
    "df = pd.read_csv(csv_path)\n",
    "\n",
    "df[\"avg_rh_cq\"] = df[[\"rh_ij\", \"cq_ij\"]].mean(axis=1)\n",
    "\n",
    "df.to_csv(csv_path, index=False)\n",
    "\n",
    "print(\"✅ Updated 'final_scores1.csv' with 'avg_rh_cq' column.\")\n"
   ]
  },
  {
   "cell_type": "code",
   "execution_count": null,
   "id": "0c09acac-afe9-4651-ad7c-bfe8087f8bce",
   "metadata": {},
   "outputs": [],
   "source": []
  }
 ],
 "metadata": {
  "kernelspec": {
   "display_name": "Python 3 (ipykernel)",
   "language": "python",
   "name": "python3"
  },
  "language_info": {
   "codemirror_mode": {
    "name": "ipython",
    "version": 3
   },
   "file_extension": ".py",
   "mimetype": "text/x-python",
   "name": "python",
   "nbconvert_exporter": "python",
   "pygments_lexer": "ipython3",
   "version": "3.12.7"
  }
 },
 "nbformat": 4,
 "nbformat_minor": 5
}
